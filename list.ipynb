{
 "cells": [
  {
   "cell_type": "markdown",
   "metadata": {},
   "source": [
    "    ### list\n",
    "    -create\n",
    "    -indexing and slicing \n",
    "    -methods\n",
    "      -append()\n",
    "      -insert()\n",
    "      -extend()\n",
    "      -remove()\n",
    "      -pop()\n",
    "      -clear()\n",
    "      -count()\n",
    "      -reverse()\n",
    "      -sort()\n",
    "      -index()\n",
    "      -copy()\n",
    "    -comprehension"
   ]
  },
  {
   "cell_type": "code",
   "execution_count": 1,
   "metadata": {},
   "outputs": [
    {
     "name": "stdout",
     "output_type": "stream",
     "text": [
      "[1, 2, 3] <class 'list'>\n",
      "['Alice', 'Bob', 'Charlie'] <class 'list'>\n",
      "['apple', 50, 'mango', 100, 'orange', 70]\n",
      "[[1, 2, 3], [4, 5, 6], [7, 8]]\n",
      "[1, 1, 1, 1, 1, 1, 1, 1, 1, 1]\n",
      "['v', 'e', 'r', 't', 'e', 'x']\n",
      "['welcome', 'to', 'listing']\n"
     ]
    }
   ],
   "source": [
    "a =[1,2,3]\n",
    "print(a,type(a))\n",
    "names=['Alice','Bob','Charlie']\n",
    "print(names,type(names))\n",
    "data = ['apple',50,'mango',100,'orange',70]\n",
    "nested_list = [[1,2,3],[4,5,6],[7,8]]\n",
    "print(data)\n",
    "print(nested_list)\n",
    "duplicated_list = [1] *10\n",
    "print(duplicated_list)\n",
    "print(list('vertex'))\n",
    "print('welcome to listing'.split())\n"
   ]
  },
  {
   "cell_type": "code",
   "execution_count": 9,
   "metadata": {},
   "outputs": [
    {
     "name": "stdout",
     "output_type": "stream",
     "text": [
      "first five = [11, 12, 13, 14, 15]\n",
      "last five = [16, 17, 18, 19, 20]\n",
      "last element = 20\n",
      "first element = 11\n",
      "except first 2 and last 2 = [13, 14, 15, 16, 17, 18]\n",
      "reverse list = [20, 19, 18, 17, 16, 15, 14, 13, 12, 11]\n",
      "all even indexes= [11, 13, 15, 17, 19]\n",
      "all odd indexes= [12, 14, 16, 18, 20]\n",
      "reverse first five= [15, 14, 13, 12, 11]\n",
      "reverse with 1 gap= [15, 13, 11]\n",
      "reverse with 1 gap= [20, 18, 16, 14, 12]\n"
     ]
    }
   ],
   "source": [
    "n = [11,12,13,14,15,16,17,18,19,20]\n",
    "print('first five =',n[:5])\n",
    "print('last five =',n[-5:])\n",
    "print('last element =',n[-1])\n",
    "print('first element =',n[0])\n",
    "print('except first 2 and last 2 =',n[2:-2])\n",
    "print('reverse list =',n[::-1])\n",
    "print('all even indexes=',n[::2])\n",
    "print('all odd indexes=',n[1::2])\n",
    "print('reverse first five=',n[4::-1])\n",
    "print('reverse with 1 gap=',n[4::-2])\n",
    "print('reverse with 1 gap=',n[::-2])"
   ]
  },
  {
   "cell_type": "code",
   "execution_count": 10,
   "metadata": {},
   "outputs": [
    {
     "name": "stdout",
     "output_type": "stream",
     "text": [
      "[11, 12, 13, 14, 15, 100, 17, 18, 19, 20]\n",
      "[200, 12, 13, 14, 15, 100, 17, 18, 19, 20]\n"
     ]
    }
   ],
   "source": [
    "#list is mutable\n",
    "n[5] = 100 #update\n",
    "print(n)\n",
    "n[0] = 200\n",
    "print(n)"
   ]
  },
  {
   "cell_type": "code",
   "execution_count": 12,
   "metadata": {},
   "outputs": [
    {
     "name": "stdout",
     "output_type": "stream",
     "text": [
      "<class 'list'>\n",
      "0\n",
      "['Star wars', 'Harry  Plotter', 'The core', 'Bullet Train', 'Jumanji']\n",
      "5\n"
     ]
    }
   ],
   "source": [
    "movies = []\n",
    "print(type(movies))\n",
    "print(len(movies))\n",
    "movies.append(\"Star wars\")\n",
    "movies.append(\"Harry  Plotter\")\n",
    "movies.append(\"The core\")\n",
    "movies.append(\"Bullet Train\")\n",
    "movies.append(\"Jumanji\")\n",
    "print(movies)\n",
    "print(len(movies))"
   ]
  },
  {
   "cell_type": "code",
   "execution_count": 15,
   "metadata": {},
   "outputs": [
    {
     "name": "stdout",
     "output_type": "stream",
     "text": [
      "['fast and furious', '2 fast 2 furious', 'fast and furious:Tokyo drift', 'fast 5', 'Fast and furious 6']\n",
      "['fast and furious', '2 fast 2 furious', 'fast and furious:Tokyo drift', 'fast and furious 4', 'fast 5', 'Fast and furious 6']\n"
     ]
    }
   ],
   "source": [
    "ff = [\"fast and furious\",'2 fast 2 furious','fast and furious:Tokyo drift', 'fast 5']\n",
    "ff.append(\"Fast and furious 6\")\n",
    "print(ff)\n",
    "ff.insert(3,'fast and furious 4')\n",
    "print(ff)"
   ]
  },
  {
   "cell_type": "code",
   "execution_count": 18,
   "metadata": {},
   "outputs": [
    {
     "name": "stdout",
     "output_type": "stream",
     "text": [
      "[1, 2, 3, 4, 6, 7, 8, 9]\n",
      "[1, 2, 3, 4, 5, 6, 7, 8, 9]\n",
      "[1, 2, 3, 4, 5, 6, 7, 8, 9, 5]\n"
     ]
    }
   ],
   "source": [
    "n = [1,2,3,6,7,8,9]\n",
    "n.insert(3,4)# on 3rd index, insert value = 4\n",
    "print(n)\n",
    "n.insert(4,5) # on 5th index , insert value = 5\n",
    "print(n)\n",
    "n.insert(100,5)# invalid index, so it will insert at the end\n",
    "print(n)"
   ]
  },
  {
   "cell_type": "code",
   "execution_count": 20,
   "metadata": {},
   "outputs": [
    {
     "name": "stdout",
     "output_type": "stream",
     "text": [
      "[1, 2, 3, 4, 5, 6]\n",
      "[4, 5, 6]\n",
      "[4, 5, 6, 7, 8, 9]\n",
      "[7, 8, 9, 1, 2, 3, 4, 5, 5]\n"
     ]
    }
   ],
   "source": [
    "# adding a list in a another list\n",
    "l1 = [1,2,3]\n",
    "l2 =[4,5,6]\n",
    "l3 =[7,8,9]\n",
    "l1.extend(l2)\n",
    "print(l1)\n",
    "print(l2)\n",
    "l2.extend(l3)\n",
    "print(l2)\n",
    "l3.extend([1,2,3,4,5,5])\n",
    "print(l3)"
   ]
  },
  {
   "cell_type": "code",
   "execution_count": null,
   "metadata": {},
   "outputs": [],
   "source": [
    "# 7 list basics,indexing , slicing, adding"
   ]
  },
  {
   "cell_type": "markdown",
   "metadata": {},
   "source": []
  }
 ],
 "metadata": {
  "kernelspec": {
   "display_name": "base",
   "language": "python",
   "name": "python3"
  },
  "language_info": {
   "codemirror_mode": {
    "name": "ipython",
    "version": 3
   },
   "file_extension": ".py",
   "mimetype": "text/x-python",
   "name": "python",
   "nbconvert_exporter": "python",
   "pygments_lexer": "ipython3",
   "version": "3.12.3"
  }
 },
 "nbformat": 4,
 "nbformat_minor": 2
}

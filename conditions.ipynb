{
 "cells": [
  {
   "cell_type": "markdown",
   "metadata": {},
   "source": [
    "condition \n",
    "- if \n",
    "- if else\n",
    "- if elif\n",
    "- match case"
   ]
  },
  {
   "cell_type": "code",
   "execution_count": 2,
   "metadata": {},
   "outputs": [],
   "source": [
    "name = input(\"enter your name\")\n",
    "if len(name) >= 10:\n",
    "    print (\"you have a very big name\")"
   ]
  },
  {
   "cell_type": "code",
   "execution_count": null,
   "metadata": {},
   "outputs": [],
   "source": []
  },
  {
   "cell_type": "code",
   "execution_count": 6,
   "metadata": {},
   "outputs": [
    {
     "name": "stdout",
     "output_type": "stream",
     "text": [
      "consize name\n",
      "Standard name, nothing special\n"
     ]
    }
   ],
   "source": [
    "name = input(\"enter your name\")\n",
    "if len(name) == 0:\n",
    "    print(\"you dont have a name\")\n",
    "if len(name) <=4:\n",
    "    print(\"consize name\")\n",
    "if len(name) <10:\n",
    "    print(\"Standard name, nothing special\")\n",
    "if len(name) >= 10:\n",
    "    print (\"you have a very big name\")"
   ]
  },
  {
   "cell_type": "code",
   "execution_count": 7,
   "metadata": {},
   "outputs": [
    {
     "name": "stdout",
     "output_type": "stream",
     "text": [
      "even\n"
     ]
    }
   ],
   "source": [
    "num = 1243234\n",
    "if num % 2 == 0:\n",
    "    print(\"even\")\n",
    "else:\n",
    "    print(\"odd\")"
   ]
  },
  {
   "cell_type": "code",
   "execution_count": 8,
   "metadata": {},
   "outputs": [
    {
     "name": "stdout",
     "output_type": "stream",
     "text": [
      "welcome user!\n"
     ]
    }
   ],
   "source": [
    "username = input(\"enter username\")\n",
    "password = input(\"enter password\")\n",
    "if username == \"admin\" and password ==\"admin\":\n",
    "    print(\"welcome user!\")\n",
    "else:\n",
    "    print(\"Kaun ho tum?\")"
   ]
  },
  {
   "cell_type": "code",
   "execution_count": 9,
   "metadata": {},
   "outputs": [
    {
     "name": "stdout",
     "output_type": "stream",
     "text": [
      "Arey wah! you got A\n"
     ]
    }
   ],
   "source": [
    "# if - elif ladder \n",
    "marks = int(input(\"Kitne number aaye aapke =>\"))\n",
    "if marks > 85:\n",
    "    print(\"Arey wah! you got A\")\n",
    "elif marks >= 70:\n",
    "    print(\"badiya ,B Grade \")\n",
    "elif marks >=50:\n",
    "    print(\"Chalo pass to hue, C Grade\")\n",
    "else:\n",
    "    print(\"Fail, better luck next year\")"
   ]
  },
  {
   "cell_type": "code",
   "execution_count": 13,
   "metadata": {},
   "outputs": [
    {
     "name": "stdout",
     "output_type": "stream",
     "text": [
      "welcome user 21893!\n"
     ]
    }
   ],
   "source": [
    "# nested conditions \n",
    "username = input(\"username :\")\n",
    "password = input(\"password:\")\n",
    "if username != '' and password !='':\n",
    "    if username == \"admin\":\n",
    "        if password == \"admin\":\n",
    "            print(\"welcome user 21893!\")\n",
    "        else:\n",
    "            print(\"password do not match\")\n",
    "    else:\n",
    "        print(\"username does not exist\")\n",
    "else:\n",
    "    print(\"credentials cant be blank\")"
   ]
  },
  {
   "cell_type": "code",
   "execution_count": 3,
   "metadata": {},
   "outputs": [
    {
     "ename": "ValueError",
     "evalue": "invalid literal for int() with base 10: '_'",
     "output_type": "error",
     "traceback": [
      "\u001b[1;31m---------------------------------------------------------------------------\u001b[0m",
      "\u001b[1;31mValueError\u001b[0m                                Traceback (most recent call last)",
      "Cell \u001b[1;32mIn[3], line 1\u001b[0m\n\u001b[1;32m----> 1\u001b[0m age \u001b[38;5;241m=\u001b[39m \u001b[38;5;28mint\u001b[39m(\u001b[38;5;28minput\u001b[39m(\u001b[38;5;124m'\u001b[39m\u001b[38;5;124menter ur age:\u001b[39m\u001b[38;5;124m'\u001b[39m))\n\u001b[0;32m      2\u001b[0m \u001b[38;5;28;01mmatch\u001b[39;00m age:\n\u001b[0;32m      3\u001b[0m     \u001b[38;5;28;01mcase\u001b[39;00m \u001b[38;5;241m1\u001b[39m:\n\u001b[0;32m      4\u001b[0m         \u001b[38;5;28mprint\u001b[39m(\u001b[38;5;124m\"\u001b[39m\u001b[38;5;124myou are still very young\u001b[39m\u001b[38;5;124m\"\u001b[39m)\n\u001b[1;32m   (...)\u001b[0m\n\u001b[0;32m     11\u001b[0m     \u001b[38;5;28;01mcase\u001b[39;00m\u001b[38;5;250m \u001b[39m\u001b[38;5;28;01m_\u001b[39;00m:\n\u001b[0;32m     12\u001b[0m         \u001b[38;5;28mprint\u001b[39m(\u001b[38;5;124m\"\u001b[39m\u001b[38;5;124myou are not worthy\u001b[39m\u001b[38;5;124m\"\u001b[39m)\n",
      "\u001b[1;31mValueError\u001b[0m: invalid literal for int() with base 10: '_'"
     ]
    }
   ],
   "source": [
    "age = int(input('enter ur age:'))\n",
    "match age:\n",
    "    case 1:\n",
    "        print(\"you are still very young\")\n",
    "    case 10:\n",
    "        print(\"you should go and play outside\")\n",
    "    case 20:\n",
    "        print(\"you are a teenager\")\n",
    "    case 30:\n",
    "        print(\"you are an adult, take responsibilities\")\n",
    "    case _:\n",
    "        print(\"you are not worthy\")"
   ]
  },
  {
   "cell_type": "code",
   "execution_count": null,
   "metadata": {},
   "outputs": [],
   "source": []
  },
  {
   "cell_type": "code",
   "execution_count": null,
   "metadata": {},
   "outputs": [],
   "source": []
  }
 ],
 "metadata": {
  "kernelspec": {
   "display_name": "base",
   "language": "python",
   "name": "python3"
  },
  "language_info": {
   "codemirror_mode": {
    "name": "ipython",
    "version": 3
   },
   "file_extension": ".py",
   "mimetype": "text/x-python",
   "name": "python",
   "nbconvert_exporter": "python",
   "pygments_lexer": "ipython3",
   "version": "3.12.3"
  }
 },
 "nbformat": 4,
 "nbformat_minor": 2
}

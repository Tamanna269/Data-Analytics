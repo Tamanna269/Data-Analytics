{
 "cells": [
  {
   "cell_type": "code",
   "execution_count": 1,
   "metadata": {},
   "outputs": [
    {
     "data": {
      "text/plain": [
       "6294.0"
      ]
     },
     "execution_count": 1,
     "metadata": {},
     "output_type": "execute_result"
    }
   ],
   "source": [
    "p=12000\n",
    "r=10.49\n",
    "t=5\n",
    "si=p*r*t/100\n",
    "si"
   ]
  },
  {
   "cell_type": "markdown",
   "metadata": {},
   "source": [
    "example ans =input(\"prompt\")"
   ]
  },
  {
   "cell_type": "code",
   "execution_count": 2,
   "metadata": {},
   "outputs": [
    {
     "data": {
      "text/plain": [
       "'Tamanna'"
      ]
     },
     "execution_count": 2,
     "metadata": {},
     "output_type": "execute_result"
    }
   ],
   "source": [
    "input(\"Enter your name\")"
   ]
  },
  {
   "cell_type": "code",
   "execution_count": 3,
   "metadata": {},
   "outputs": [],
   "source": [
    "name = input('Enter your name')\n",
    "city = input('Enter your city')\n",
    "color = input('Enter your favourite color')\n",
    "fruit = input ('Enter your favourite fruit')\n",
    "luckynum = input('Enter your lucky number')\n"
   ]
  },
  {
   "cell_type": "code",
   "execution_count": 5,
   "metadata": {},
   "outputs": [
    {
     "name": "stdout",
     "output_type": "stream",
     "text": [
      "1212\n"
     ]
    }
   ],
   "source": [
    "a = input('enter a number')\n",
    "b = input('enter a number')\n",
    "print(a+b)"
   ]
  },
  {
   "cell_type": "markdown",
   "metadata": {},
   "source": []
  },
  {
   "cell_type": "markdown",
   "metadata": {},
   "source": [
    "typcasting\n",
    "from one datatype => another\n",
    "str => int(variable ) => int"
   ]
  },
  {
   "cell_type": "code",
   "execution_count": 6,
   "metadata": {},
   "outputs": [
    {
     "data": {
      "text/plain": [
       "120"
      ]
     },
     "execution_count": 6,
     "metadata": {},
     "output_type": "execute_result"
    }
   ],
   "source": [
    "int (\"120\")"
   ]
  },
  {
   "cell_type": "code",
   "execution_count": 7,
   "metadata": {},
   "outputs": [
    {
     "data": {
      "text/plain": [
       "12.2"
      ]
     },
     "execution_count": 7,
     "metadata": {},
     "output_type": "execute_result"
    }
   ],
   "source": [
    "float(\"12.20\")"
   ]
  },
  {
   "cell_type": "code",
   "execution_count": 8,
   "metadata": {},
   "outputs": [
    {
     "name": "stdout",
     "output_type": "stream",
     "text": [
      "<class 'int'>\n",
      "<class 'str'>\n",
      "<class 'str'>\n",
      "<class 'float'>\n"
     ]
    }
   ],
   "source": [
    "a = 10\n",
    "b = \"10\"\n",
    "c = \"10.20\"\n",
    "d = 10.20\n",
    "print(type(a))\n",
    "print(type(b))\n",
    "print(type(c))\n",
    "print(type(d))"
   ]
  },
  {
   "cell_type": "code",
   "execution_count": 9,
   "metadata": {},
   "outputs": [
    {
     "name": "stdout",
     "output_type": "stream",
     "text": [
      "10.0\n",
      "10\n",
      "True\n"
     ]
    }
   ],
   "source": [
    "print(float(a))\n",
    "print(str(a))\n",
    "print(bool(a))"
   ]
  },
  {
   "cell_type": "code",
   "execution_count": 10,
   "metadata": {},
   "outputs": [
    {
     "name": "stdout",
     "output_type": "stream",
     "text": [
      "24\n"
     ]
    }
   ],
   "source": [
    "a = input(\"enter a number\")\n",
    "b = input(\"enter a number\")\n",
    "c = int (a)+int(b)\n",
    "print(c)"
   ]
  },
  {
   "cell_type": "code",
   "execution_count": 11,
   "metadata": {},
   "outputs": [
    {
     "name": "stdout",
     "output_type": "stream",
     "text": [
      "24\n"
     ]
    }
   ],
   "source": [
    "a= int (input(\"enter a number\"))\n",
    "b = int(input('enter a number'))\n",
    "c = a+b \n",
    "print(c)"
   ]
  },
  {
   "cell_type": "code",
   "execution_count": 14,
   "metadata": {},
   "outputs": [
    {
     "name": "stdout",
     "output_type": "stream",
     "text": [
      "3600000.0\n"
     ]
    }
   ],
   "source": [
    "p = int(input(\"enter ur principal\"))\n",
    "r = int(input(\"enter ur rate\"))\n",
    "t = int(input(\"enter ur time\"))\n",
    "si = p*r*t/100\n",
    "print(si)"
   ]
  },
  {
   "cell_type": "markdown",
   "metadata": {},
   "source": [
    "formatted output\n",
    " answer : 12 - 3 = 9"
   ]
  },
  {
   "cell_type": "code",
   "execution_count": 16,
   "metadata": {},
   "outputs": [
    {
     "name": "stdout",
     "output_type": "stream",
     "text": [
      "answer: 12 - 3 = 9\n"
     ]
    }
   ],
   "source": [
    "a = 12\n",
    "b = 3\n",
    "c = a - b\n",
    "print(\"answer:\",a,'-',b,'=',c)"
   ]
  },
  {
   "cell_type": "code",
   "execution_count": 19,
   "metadata": {},
   "outputs": [
    {
     "name": "stdout",
     "output_type": "stream",
     "text": [
      "Simple interest calculator\n",
      "Principle = 120000 rupees\n",
      "Rate = 3 %\n",
      "Time = 10 years\n",
      "---------------\n",
      "Simple Interest = 36000.0\n"
     ]
    }
   ],
   "source": [
    "p = int(input(\"enter ur principle\"))\n",
    "r = int(input(\"enter ur rate\"))\n",
    "t = int(input(\"enter ur time\"))\n",
    "si = p*r*t/100\n",
    "print(\"Simple interest calculator\")\n",
    "print(\"Principle =\", p,\"rupees\")\n",
    "print(\"Rate =\", r,\"%\")\n",
    "print(\"Time =\",t,\"years\")\n",
    "print('-'* 15)\n",
    "print(\"Simple Interest =\", si)\n"
   ]
  },
  {
   "cell_type": "code",
   "execution_count": 20,
   "metadata": {},
   "outputs": [
    {
     "name": "stdout",
     "output_type": "stream",
     "text": [
      "h-e-l-l-o\n",
      "apple,banana,cherry\n"
     ]
    }
   ],
   "source": [
    "print(*'hello', sep='-')\n",
    "fruits =['apple' ,'banana','cherry']\n",
    "print(*fruits, sep=',')"
   ]
  },
  {
   "cell_type": "markdown",
   "metadata": {},
   "source": [
    "string interpolation for formatted output"
   ]
  },
  {
   "cell_type": "code",
   "execution_count": 21,
   "metadata": {},
   "outputs": [
    {
     "name": "stdout",
     "output_type": "stream",
     "text": [
      "answer: 12 - 3 = 9\n",
      "answer:12 -3 =9\n"
     ]
    }
   ],
   "source": [
    "a = 12\n",
    "b = 3\n",
    "c = a - b\n",
    "print(\"answer:\",a,'-',b,'=',c)\n",
    "print(f\"answer:{a} -{b} ={c}\")"
   ]
  },
  {
   "cell_type": "code",
   "execution_count": 23,
   "metadata": {},
   "outputs": [
    {
     "name": "stdout",
     "output_type": "stream",
     "text": [
      "Area of Triangle\n",
      "Base=20 cm\n",
      "Height = 5 cm\n",
      "---------------\n",
      "Area =50.0cm\n"
     ]
    }
   ],
   "source": [
    "# area of triangle \n",
    "b = int(input('enter the base of the triangle'))\n",
    "h = int(input('enter the height of the triangle'))\n",
    "area = 1/2*b*h\n",
    "print(\"Area of Triangle\")\n",
    "print(f'Base={b} cm')\n",
    "print(f'Height = {h} cm')\n",
    "print('-' *15)\n",
    "print(f'Area ={area}cm')"
   ]
  },
  {
   "cell_type": "code",
   "execution_count": 2,
   "metadata": {},
   "outputs": [
    {
     "name": "stdout",
     "output_type": "stream",
     "text": [
      "3\n",
      "3.3\n",
      "3.33\n",
      "3.333\n"
     ]
    }
   ],
   "source": [
    "#round function should be used with expression\n",
    "print(round(10/3))\n",
    "print(round(10/3 ,1))\n",
    "print(round(10/3 ,2))\n",
    "print(round(10/3 ,3))\n",
    "\n"
   ]
  },
  {
   "cell_type": "code",
   "execution_count": 4,
   "metadata": {},
   "outputs": [
    {
     "name": "stdout",
     "output_type": "stream",
     "text": [
      "10 divided by7 is1.4285714285714286\n",
      "10 divided by7 is1.4\n",
      "10 divided by7 is1.43\n",
      "10 divided by7 is1.429\n"
     ]
    }
   ],
   "source": [
    "a = 10\n",
    "b = 7 \n",
    "c = a/b\n",
    "print(f'{a} divided by{b} is{a/b}')\n",
    "print(f'{a} divided by{b} is{a/b:.1f}')\n",
    "print(f'{a} divided by{b} is{a/b:.2f}')\n",
    "print(f'{a} divided by{b} is{c:.3f}')\n"
   ]
  },
  {
   "cell_type": "code",
   "execution_count": 9,
   "metadata": {},
   "outputs": [
    {
     "name": "stdout",
     "output_type": "stream",
     "text": [
      "                        The final empire |  Brandon Sanderson   | 499\n",
      "                          The art of war |       Sun Tzu        | 239\n",
      "   Stromlight Archives: The way of kings |  Brandon Sanderson   | 550\n"
     ]
    }
   ],
   "source": [
    "#text alignment\n",
    "n1 = \"The final empire\"\n",
    "a1 = 'Brandon Sanderson'\n",
    "p1 = 499\n",
    "n2 ='The art of war'\n",
    "a2 = 'Sun Tzu'\n",
    "p2 = 239\n",
    "n3 = 'Stromlight Archives: The way of kings'\n",
    "a3 = 'Brandon Sanderson'\n",
    "p3 = 550\n",
    "\n",
    "print (f'{n1:>40} | {a1:^20} | {p1}')\n",
    "print(f'{n2:>40} | {a2:^20} | {p2}')\n",
    "print(f'{n3:>40} | {a3:^20} | {p3}')\n"
   ]
  },
  {
   "cell_type": "code",
   "execution_count": null,
   "metadata": {},
   "outputs": [],
   "source": []
  }
 ],
 "metadata": {
  "kernelspec": {
   "display_name": "base",
   "language": "python",
   "name": "python3"
  },
  "language_info": {
   "codemirror_mode": {
    "name": "ipython",
    "version": 3
   },
   "file_extension": ".py",
   "mimetype": "text/x-python",
   "name": "python",
   "nbconvert_exporter": "python",
   "pygments_lexer": "ipython3",
   "version": "3.12.3"
  }
 },
 "nbformat": 4,
 "nbformat_minor": 2
}

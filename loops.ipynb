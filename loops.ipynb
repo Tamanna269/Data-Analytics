{
 "cells": [
  {
   "cell_type": "markdown",
   "metadata": {},
   "source": [
    "## loops in python \n",
    "\n",
    " 1. for loop -> step based loop \n",
    "  2. while loop -> condition based loop\n",
    "\n",
    "  syntax:\n",
    "  ''' python\n",
    "  for temp in iterable:\n",
    "  #code block\n",
    "\n",
    "  '''python \n",
    "  while condition:\n",
    "  #code block\n",
    "\n",
    "  *iterable is any object that has children/items to iterable over*\n",
    "  -string\n",
    "  -list\n",
    "  -tuple\n",
    "  -set\n",
    "  -dictionary\n",
    "  -generator\n",
    "  -range()\n",
    "\n",
    "  -loop control\n",
    "  1. 'break'\n",
    "  2. 'continue'\n",
    "\n",
    "  - 'enumerate()'\n",
    "  - 'zip()\n",
    "  - for-else,while-else\n",
    "  "
   ]
  },
  {
   "cell_type": "code",
   "execution_count": 2,
   "metadata": {},
   "outputs": [
    {
     "data": {
      "text/plain": [
       "[0, 1, 2, 3, 4, 5, 6, 7, 8, 9]"
      ]
     },
     "execution_count": 2,
     "metadata": {},
     "output_type": "execute_result"
    }
   ],
   "source": [
    "list(range(10))"
   ]
  },
  {
   "cell_type": "code",
   "execution_count": 3,
   "metadata": {},
   "outputs": [
    {
     "name": "stdout",
     "output_type": "stream",
     "text": [
      "0\n",
      "1\n",
      "2\n",
      "3\n",
      "4\n"
     ]
    }
   ],
   "source": [
    "for i in range(5):\n",
    "    print(i)"
   ]
  },
  {
   "cell_type": "code",
   "execution_count": 4,
   "metadata": {},
   "outputs": [
    {
     "name": "stdout",
     "output_type": "stream",
     "text": [
      "10\n",
      "11\n",
      "12\n",
      "13\n",
      "14\n",
      "15\n",
      "16\n",
      "17\n",
      "18\n",
      "19\n"
     ]
    }
   ],
   "source": [
    "for i in range(10,20):\n",
    "    print(i)"
   ]
  },
  {
   "cell_type": "code",
   "execution_count": 8,
   "metadata": {},
   "outputs": [
    {
     "name": "stdout",
     "output_type": "stream",
     "text": [
      "1, 3, 5, 7, 9, "
     ]
    }
   ],
   "source": [
    "for i in range(1, 11, 2):\n",
    "    print(i, end=', ')"
   ]
  },
  {
   "cell_type": "code",
   "execution_count": 9,
   "metadata": {},
   "outputs": [
    {
     "name": "stdout",
     "output_type": "stream",
     "text": [
      "5,4,3,2,1,0,-1,-2,-3,-4,-5,"
     ]
    }
   ],
   "source": [
    "#reverse\n",
    "for i in range(5, -6, -1):\n",
    "    print(i, end=',')"
   ]
  },
  {
   "cell_type": "code",
   "execution_count": 10,
   "metadata": {},
   "outputs": [
    {
     "name": "stdout",
     "output_type": "stream",
     "text": [
      "=> d\n",
      "=> i\n",
      "=> g\n",
      "=> i\n",
      "=> p\n",
      "=> o\n",
      "=> d\n",
      "=> i\n",
      "=> u\n",
      "=> m\n"
     ]
    }
   ],
   "source": [
    "word = 'digipodium'\n",
    "for char in word:\n",
    "    print(\"=>\",char)"
   ]
  },
  {
   "cell_type": "code",
   "execution_count": 11,
   "metadata": {},
   "outputs": [
    {
     "name": "stdout",
     "output_type": "stream",
     "text": [
      "p\n",
      "y\n",
      "t\n",
      "h\n",
      "o\n",
      "n\n"
     ]
    }
   ],
   "source": [
    "data = 'p_y@!t@h#on'\n",
    "for i in data:\n",
    "    if i.isalpha():\n",
    "        print(i)"
   ]
  },
  {
   "cell_type": "code",
   "execution_count": 12,
   "metadata": {},
   "outputs": [
    {
     "name": "stdout",
     "output_type": "stream",
     "text": [
      "-25\n",
      "-20\n",
      "-15\n",
      "-10\n",
      "-5\n",
      "0\n",
      "5\n",
      "10\n",
      "15\n",
      "20\n",
      "25\n"
     ]
    }
   ],
   "source": [
    "nums = [-5,-4,-3,-2,-1,0,1,2,3,4,5]\n",
    "for num in nums:\n",
    "    print(num * 5)"
   ]
  },
  {
   "cell_type": "code",
   "execution_count": 13,
   "metadata": {},
   "outputs": [
    {
     "name": "stdout",
     "output_type": "stream",
     "text": [
      "-4\n",
      "-2\n",
      "0\n",
      "2\n",
      "4\n"
     ]
    }
   ],
   "source": [
    "nums = [-5,-4,-3,-2,-1,0,1,2,3,4,5]\n",
    "for num in nums:\n",
    "    if num%2 ==0:\n",
    "        print(num)"
   ]
  },
  {
   "cell_type": "code",
   "execution_count": 14,
   "metadata": {},
   "outputs": [
    {
     "name": "stdout",
     "output_type": "stream",
     "text": [
      "apple 5\n",
      "banana 6\n",
      "cherry 6\n",
      "dragonfruit 11\n",
      "eggplant 8\n",
      "fig 3\n",
      "gauva 5\n",
      "honeydew 8\n",
      "imli 4\n",
      "kiwi 4\n"
     ]
    }
   ],
   "source": [
    "fruits =['apple','banana','cherry','dragonfruit','eggplant','fig','gauva','honeydew','imli','kiwi']\n",
    "for fruit in fruits:\n",
    "    print(fruit, len(fruit))"
   ]
  },
  {
   "cell_type": "code",
   "execution_count": 16,
   "metadata": {},
   "outputs": [
    {
     "name": "stdout",
     "output_type": "stream",
     "text": [
      "apple\n",
      "banana\n",
      "cherry\n",
      "dragonfruit\n",
      "eggplant\n",
      "Loop completed\n"
     ]
    }
   ],
   "source": [
    "for i in fruits:\n",
    "    if i =='fig':\n",
    "        break\n",
    "    print(i)\n",
    "print('Loop completed')"
   ]
  },
  {
   "cell_type": "code",
   "execution_count": 17,
   "metadata": {},
   "outputs": [
    {
     "name": "stdout",
     "output_type": "stream",
     "text": [
      "10\n",
      "40\n",
      "105\n",
      "134\n"
     ]
    }
   ],
   "source": [
    "nums =[10,30,65,29]\n",
    "total =0\n",
    "for i in nums:\n",
    "    total += i\n",
    "    print(total)"
   ]
  },
  {
   "cell_type": "code",
   "execution_count": 20,
   "metadata": {},
   "outputs": [
    {
     "name": "stdout",
     "output_type": "stream",
     "text": [
      "286\n"
     ]
    }
   ],
   "source": [
    "nums= [120, -20 ,10 ,40, 101, -5, 15]\n",
    "total = 0 \n",
    "for i in nums:\n",
    "    if (i>0):\n",
    "        total += i\n",
    "print(total)"
   ]
  },
  {
   "cell_type": "code",
   "execution_count": 1,
   "metadata": {},
   "outputs": [
    {
     "name": "stdout",
     "output_type": "stream",
     "text": [
      "isha\n",
      "harsh\n",
      "divyansh\n",
      "muskan\n",
      "anshika\n"
     ]
    }
   ],
   "source": [
    "names =['isha','harsh','divyansh','muskan','anshika']\n",
    "for i in names:\n",
    "    print(i)"
   ]
  },
  {
   "cell_type": "code",
   "execution_count": 3,
   "metadata": {},
   "outputs": [
    {
     "name": "stdout",
     "output_type": "stream",
     "text": [
      "0 isha\n",
      "1 harsh\n",
      "2 divyansh\n",
      "3 muskan\n",
      "4 anshika\n"
     ]
    }
   ],
   "source": [
    "for i,v in enumerate(names):\n",
    "    print(i, v)"
   ]
  },
  {
   "cell_type": "code",
   "execution_count": 4,
   "metadata": {},
   "outputs": [
    {
     "name": "stdout",
     "output_type": "stream",
     "text": [
      "isha\n",
      "harsh\n",
      "divyansh\n"
     ]
    }
   ],
   "source": [
    "for i,v in enumerate(names):\n",
    "    if i==3:\n",
    "        break\n",
    "    print(v)"
   ]
  },
  {
   "cell_type": "code",
   "execution_count": 8,
   "metadata": {},
   "outputs": [
    {
     "name": "stdout",
     "output_type": "stream",
     "text": [
      "harsh\n",
      "muskan\n"
     ]
    }
   ],
   "source": [
    "for i, v in  enumerate(names):\n",
    "    if i % 2 != 0:\n",
    "        print(v)\n",
    "    \n"
   ]
  },
  {
   "cell_type": "code",
   "execution_count": 9,
   "metadata": {},
   "outputs": [
    {
     "name": "stdout",
     "output_type": "stream",
     "text": [
      "isha\n",
      "divyansh\n",
      "anshika\n"
     ]
    }
   ],
   "source": [
    "for i, v in  enumerate(names):\n",
    "    if i % 2 == 0:\n",
    "        print(v)\n",
    "    "
   ]
  },
  {
   "cell_type": "code",
   "execution_count": 11,
   "metadata": {},
   "outputs": [
    {
     "name": "stdout",
     "output_type": "stream",
     "text": [
      "1 + 6 = 7\n",
      "2 + 7 = 9\n",
      "3 + 8 = 11\n",
      "4 + 9 = 13\n",
      "5 + 10 = 15\n"
     ]
    }
   ],
   "source": [
    "x =[1,2,3,4,5]\n",
    "y =[6,7,8,9,10]\n",
    "\n",
    "for i,j in zip(x, y):\n",
    "    print(f'{i} + {j} = {i+j}')\n"
   ]
  },
  {
   "cell_type": "code",
   "execution_count": 29,
   "metadata": {},
   "outputs": [
    {
     "name": "stdout",
     "output_type": "stream",
     "text": [
      "1 +4 +7 =12\n",
      "2 +5 +8 =15\n",
      "3 +6 +9 =18\n"
     ]
    }
   ],
   "source": [
    "a = [1,2,3]\n",
    "b = [4,5,6]\n",
    "c = [7,8,9]\n",
    "for i,j,k in zip(a,b,c):\n",
    "    print(f'{i} +{j} +{k} ={i+j+k}')\n"
   ]
  },
  {
   "cell_type": "code",
   "execution_count": 16,
   "metadata": {},
   "outputs": [
    {
     "name": "stdout",
     "output_type": "stream",
     "text": [
      "apple     | 100 | 3 |  300\n",
      "banana    | 200 | 2 |  400\n",
      "cherry    | 300 | 5 | 1500\n",
      "______________________________\n",
      "total                 2200\n"
     ]
    }
   ],
   "source": [
    "name =['apple','banana','cherry']\n",
    "price =[100,200,300]\n",
    "qty =[3,2,5]\n",
    "total = 0\n",
    "for n,p,q in zip(name,price,qty):\n",
    "    print(f'{n:10}|{p:^5}|{q:^3}|{p*q:>5}')\n",
    "    total += p*q\n",
    "print('_'*30)\n",
    "print(f\"total {total :20}\")\n",
    "\n"
   ]
  },
  {
   "cell_type": "code",
   "execution_count": 19,
   "metadata": {},
   "outputs": [
    {
     "name": "stdout",
     "output_type": "stream",
     "text": [
      "0\n",
      "1\n",
      "2\n",
      "3\n",
      "4\n",
      "loop completed successfully\n"
     ]
    }
   ],
   "source": [
    "for i in range(5):\n",
    "    print(i)\n",
    "    if i == 13:\n",
    "        break\n",
    "else:\n",
    "    print('loop completed successfully')"
   ]
  },
  {
   "cell_type": "code",
   "execution_count": 23,
   "metadata": {},
   "outputs": [
    {
     "name": "stdout",
     "output_type": "stream",
     "text": [
      "1\n",
      "2\n",
      "3\n",
      "4\n",
      "5\n",
      "6\n",
      "7\n",
      "8\n",
      "9\n",
      "10\n",
      "well done\n"
     ]
    }
   ],
   "source": [
    "n = int(input(\"enter a stop value:\"))\n",
    "for i in range(1,11):\n",
    "    if i == n:\n",
    "        print(\"loop terminated\")\n",
    "        break\n",
    "    print(i)\n",
    "else:\n",
    "    print(\"well done\")"
   ]
  },
  {
   "cell_type": "code",
   "execution_count": 26,
   "metadata": {},
   "outputs": [
    {
     "name": "stdout",
     "output_type": "stream",
     "text": [
      " => 7 % 2 == False\n",
      " => 7 % 3 == False\n",
      " => 7 % 4 == False\n",
      " => 7 % 5 == False\n",
      " => 7 % 6 == False\n",
      "prime\n"
     ]
    }
   ],
   "source": [
    "# prime number \n",
    "n = int(input(\"enter a number:\"))\n",
    "for i in range(2,n):\n",
    "    print(f\" => {n} % {i} == {n%i==0}\")\n",
    "    if n%i==0:\n",
    "        print(\"not prime\")\n",
    "        break\n",
    "else:\n",
    "    print(\"prime\")"
   ]
  },
  {
   "cell_type": "code",
   "execution_count": 27,
   "metadata": {},
   "outputs": [
    {
     "name": "stdout",
     "output_type": "stream",
     "text": [
      "200\n",
      "175\n",
      "150\n",
      "125\n",
      "100\n",
      "75\n",
      "50\n",
      "25\n"
     ]
    }
   ],
   "source": [
    "i = 200\n",
    "while i > 0:\n",
    "    print(i)\n",
    "    i -= 25"
   ]
  },
  {
   "cell_type": "code",
   "execution_count": null,
   "metadata": {},
   "outputs": [],
   "source": []
  }
 ],
 "metadata": {
  "kernelspec": {
   "display_name": "base",
   "language": "python",
   "name": "python3"
  },
  "language_info": {
   "codemirror_mode": {
    "name": "ipython",
    "version": 3
   },
   "file_extension": ".py",
   "mimetype": "text/x-python",
   "name": "python",
   "nbconvert_exporter": "python",
   "pygments_lexer": "ipython3",
   "version": "3.12.3"
  }
 },
 "nbformat": 4,
 "nbformat_minor": 2
}

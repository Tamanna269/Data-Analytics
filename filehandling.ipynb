{
 "cells": [
  {
   "cell_type": "code",
   "execution_count": 41,
   "metadata": {},
   "outputs": [],
   "source": [
    "import os "
   ]
  },
  {
   "cell_type": "code",
   "execution_count": 42,
   "metadata": {},
   "outputs": [
    {
     "name": "stdout",
     "output_type": "stream",
     "text": [
      "E:\\\n"
     ]
    }
   ],
   "source": [
    "BASE_DIR= os.getcwd()\n",
    "print(BASE_DIR)"
   ]
  },
  {
   "cell_type": "code",
   "execution_count": 43,
   "metadata": {},
   "outputs": [
    {
     "name": "stdout",
     "output_type": "stream",
     "text": [
      "['$RECYCLE.BIN', 'Desktop', 'Documents', 'Downloads', 'mynotes', 'Pictures', 'System Volume Information']\n"
     ]
    }
   ],
   "source": [
    "content = os.listdir()\n",
    "print(content)"
   ]
  },
  {
   "cell_type": "code",
   "execution_count": 55,
   "metadata": {},
   "outputs": [
    {
     "name": "stdout",
     "output_type": "stream",
     "text": [
      "Total content:7\n"
     ]
    }
   ],
   "source": [
    "addr = r'C:\\Program Files'\n",
    "os.listdir(addr)\n",
    "print(f'Total content:{len(content)}')"
   ]
  },
  {
   "cell_type": "code",
   "execution_count": 56,
   "metadata": {},
   "outputs": [
    {
     "data": {
      "text/plain": [
       "['C:\\\\', 'D:\\\\', 'E:\\\\', 'F:\\\\']"
      ]
     },
     "execution_count": 56,
     "metadata": {},
     "output_type": "execute_result"
    }
   ],
   "source": [
    "os.listdrives()"
   ]
  },
  {
   "cell_type": "code",
   "execution_count": 46,
   "metadata": {},
   "outputs": [
    {
     "name": "stdout",
     "output_type": "stream",
     "text": [
      "['$RECYCLE.BIN', 'Desktop', 'Documents', 'Downloads', 'mynotes', 'Pictures', 'System Volume Information']\n"
     ]
    }
   ],
   "source": [
    "os.chdir(\"E:\")\n",
    "print(os.listdir())"
   ]
  },
  {
   "cell_type": "code",
   "execution_count": 47,
   "metadata": {},
   "outputs": [
    {
     "data": {
      "text/plain": [
       "'E:\\\\'"
      ]
     },
     "execution_count": 47,
     "metadata": {},
     "output_type": "execute_result"
    }
   ],
   "source": [
    "os.getcwd()"
   ]
  },
  {
   "cell_type": "code",
   "execution_count": 48,
   "metadata": {},
   "outputs": [],
   "source": [
    "os.makedirs(\"mynotes\",exist_ok=True)"
   ]
  },
  {
   "cell_type": "markdown",
   "metadata": {},
   "source": [
    "# python file handling\n",
    "'open()' - opens file resources and returns a file object.\n",
    "- modes\n",
    "    -'r'= read mode(default)\n",
    "    -'w' - write mode\n",
    "    -'a' - append mode"
   ]
  },
  {
   "cell_type": "code",
   "execution_count": 49,
   "metadata": {},
   "outputs": [],
   "source": [
    "with open('mynotes/note1.txt','w') as f:\n",
    "    f.write(\"This is my first note:\\n\")\n",
    "    f.write(\"Python file handling is super easy\\n\")\n",
    "    f.write(\"You can create and delete files easily:\\n\")"
   ]
  },
  {
   "cell_type": "code",
   "execution_count": 50,
   "metadata": {},
   "outputs": [],
   "source": [
    "with open('mynotes/note1.txt','a') as f:\n",
    "    f.write(\"Os module is the best:\\n\")\n",
    "    f.write(\"Python file handling is super easy\\n\")\n",
    "    f.write(\"this is easy :\\n\")"
   ]
  },
  {
   "cell_type": "markdown",
   "metadata": {},
   "source": [
    "''' \n",
    "with open(file.txt','w') as file:\n",
    "file.write(kahani)"
   ]
  },
  {
   "cell_type": "code",
   "execution_count": 51,
   "metadata": {},
   "outputs": [
    {
     "name": "stdout",
     "output_type": "stream",
     "text": [
      "This is my first note:\n",
      "Python file handling is super easy\n",
      "You can create and delete files easily:\n",
      "Os module is the best:\n",
      "Python file handling is super easy\n",
      "this is easy :\n",
      "\n"
     ]
    }
   ],
   "source": [
    "with open(\"mynotes/note1.txt\") as file:\n",
    "    data = file.read()\n",
    "    print(data)"
   ]
  },
  {
   "cell_type": "code",
   "execution_count": 52,
   "metadata": {},
   "outputs": [
    {
     "name": "stdout",
     "output_type": "stream",
     "text": [
      "kahani =\"\"\n",
      "while True:\n",
      "    data = input('enter a story =>')\n",
      "    if len(data) == 0:\n",
      "        print(\"the end!\")\n",
      "        break\n",
      "    kahani += data + \"\\n\"\n",
      "print(\"The real story:\")\n",
      "print(kahani)\n"
     ]
    }
   ],
   "source": [
    "with open(r'C:\\Users\\STS\\Documents\\Data Analytics\\kahani.py')as f:\n",
    "    data = f.read()\n",
    "print(data)"
   ]
  },
  {
   "cell_type": "code",
   "execution_count": 53,
   "metadata": {},
   "outputs": [
    {
     "name": "stdout",
     "output_type": "stream",
     "text": [
      "['10th marksheet.pdf', '12th marksheet.pdf', '9659600b-017f-4486-977d-2d67f1901e20.pdf', 'Aadhar card.pdf', 'Caste certificate.pdf', 'DocScanner 21-Oct-2022 8-35 PM.pdf', 'Document (1).pdf', 'Document.pdf', 'New Doc 10-21-2022 20.21.pdf', 'New Doc 10-21-2022 20.25.pdf', 'Pan card.pdf', 'Photo.pdf', 'Signature.pdf']\n"
     ]
    }
   ],
   "source": [
    "items = os.listdir('C:/Users/STS/Downloads')\n",
    "pdfs= list(filter(lambda file: file.endswith('.pdf'), items))\n",
    "print(pdfs)\n"
   ]
  },
  {
   "cell_type": "code",
   "execution_count": 54,
   "metadata": {},
   "outputs": [
    {
     "name": "stdout",
     "output_type": "stream",
     "text": [
      "10th marksheet.pdf                                  333.77 KB\n",
      "12th marksheet.pdf                                  202.66 KB\n",
      "9659600b-017f-4486-977d-2d67f1901e20.pdf            2353.00 KB\n",
      "Aadhar card.pdf                                     125.59 KB\n",
      "Caste certificate.pdf                               148.70 KB\n",
      "DocScanner 21-Oct-2022 8-35 PM.pdf                  67.73 KB\n",
      "Document (1).pdf                                    65.95 KB\n",
      "Document.pdf                                        70.62 KB\n",
      "New Doc 10-21-2022 20.21.pdf                        114.86 KB\n",
      "New Doc 10-21-2022 20.25.pdf                        382.40 KB\n",
      "Pan card.pdf                                        264.59 KB\n",
      "Photo.pdf                                           127.86 KB\n",
      "Signature.pdf                                       71.20 KB\n"
     ]
    }
   ],
   "source": [
    "for file in pdfs:\n",
    "    path = f'C:/Users/STS/Downloads/{file}'\n",
    "    size = os.path.getsize(path)\n",
    "    print(f'{file:50} {size/1024: .2f} KB')"
   ]
  },
  {
   "cell_type": "code",
   "execution_count": null,
   "metadata": {},
   "outputs": [],
   "source": []
  }
 ],
 "metadata": {
  "kernelspec": {
   "display_name": "base",
   "language": "python",
   "name": "python3"
  },
  "language_info": {
   "codemirror_mode": {
    "name": "ipython",
    "version": 3
   },
   "file_extension": ".py",
   "mimetype": "text/x-python",
   "name": "python",
   "nbconvert_exporter": "python",
   "pygments_lexer": "ipython3",
   "version": "3.12.3"
  }
 },
 "nbformat": 4,
 "nbformat_minor": 2
}

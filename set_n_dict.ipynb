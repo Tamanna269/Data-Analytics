{
 "cells": [
  {
   "cell_type": "markdown",
   "metadata": {},
   "source": [
    "## set\n",
    "- create\n",
    "- method"
   ]
  },
  {
   "cell_type": "markdown",
   "metadata": {},
   "source": []
  },
  {
   "cell_type": "code",
   "execution_count": 23,
   "metadata": {},
   "outputs": [
    {
     "name": "stdout",
     "output_type": "stream",
     "text": [
      "set()\n",
      "{1, 2, 3, 4, 5, 6}\n",
      "{'banana', 'apple', 'cherry'}\n",
      "{205, 3.14, 'apple', 'banana '}\n",
      "{1, 2, 3, 4, 5, 6, 7, 8, 9, 10}\n",
      "{'h', ' ', 't', 'r', 'y', 'o', 'a', 'e', 'p'}\n"
     ]
    }
   ],
   "source": [
    "x = set() # empty \n",
    "print(x)\n",
    "y = {1,2,3,4,5,6,1,2}\n",
    "print(y)\n",
    "fruits = {\"apple\",\"banana\",\"cherry\"}\n",
    "print(fruits)\n",
    "data = {\"apple\",205,3.14,\"banana \"}\n",
    "print(data)\n",
    "a = set([1,2,3,4,5,6,7,8,9,10])\n",
    "b = set (\"harry potter\")\n",
    "print(a)\n",
    "print(b)"
   ]
  },
  {
   "cell_type": "code",
   "execution_count": 24,
   "metadata": {},
   "outputs": [
    {
     "name": "stdout",
     "output_type": "stream",
     "text": [
      "{'The hero of ages', 'The well of ascension', 'The final empire'}\n"
     ]
    }
   ],
   "source": [
    "a = set()\n",
    "a.add(\"The final empire\")\n",
    "a.add(\"The hero of ages\")\n",
    "a.add(\"The well of ascension\")\n",
    "print(a)"
   ]
  },
  {
   "cell_type": "code",
   "execution_count": 25,
   "metadata": {},
   "outputs": [
    {
     "name": "stdout",
     "output_type": "stream",
     "text": [
      "{'AppleCider', 'ApplePie', 'The final empire', 'The hero of ages', 'The well of ascension', 'AppleSeed'}\n"
     ]
    }
   ],
   "source": [
    "a.update(['AppleSeed','ApplePie','AppleCider'])\n",
    "print(a)"
   ]
  },
  {
   "cell_type": "code",
   "execution_count": 26,
   "metadata": {},
   "outputs": [
    {
     "name": "stdout",
     "output_type": "stream",
     "text": [
      "{'AppleCider', 'ApplePie', 'The final empire', 'The hero of ages', 'The well of ascension', 'AppleSeed'}\n"
     ]
    }
   ],
   "source": [
    "a.add(\"AppleSeed\") # not added\n",
    "print(a) # no duplicate"
   ]
  },
  {
   "cell_type": "code",
   "execution_count": 27,
   "metadata": {},
   "outputs": [
    {
     "name": "stdout",
     "output_type": "stream",
     "text": [
      "{'AppleCider', 'The final empire', 'The hero of ages', 'The well of ascension'}\n"
     ]
    }
   ],
   "source": [
    "# for value remove\n",
    "a.discard(\"AppleSeed\")\n",
    "a.discard(\"ApplePie\") # no error\n",
    "a.discard(\"AppleSeed\")\n",
    "print(a)\n"
   ]
  },
  {
   "cell_type": "code",
   "execution_count": 28,
   "metadata": {},
   "outputs": [
    {
     "name": "stdout",
     "output_type": "stream",
     "text": [
      "{1, 2, 3, 4, 5}\n",
      "{1, 2, 3, 4, 5}\n",
      "{1, 2, 3, 4, 5, 6, 7, 8}\n",
      "{1, 2, 3, 4, 5, 6, 7, 8}\n"
     ]
    }
   ],
   "source": [
    "a = {1,2,3}\n",
    "b = {3,4,5}\n",
    "c = {6,7,8}\n",
    "print(a.union(b))\n",
    "\n",
    "ab = a.union(b)\n",
    "print(ab)\n",
    "\n",
    "print(a.union(b,c))\n",
    "\n",
    "print(a| b|c ) # | is union"
   ]
  },
  {
   "cell_type": "code",
   "execution_count": 29,
   "metadata": {},
   "outputs": [
    {
     "name": "stdout",
     "output_type": "stream",
     "text": [
      "{3}\n",
      "{3}\n",
      "set()\n",
      "set()\n"
     ]
    }
   ],
   "source": [
    "print(a.intersection(b))\n",
    "print(a & b) # & is intersection\n",
    "print(a & c)\n",
    "print(a & b & c)"
   ]
  },
  {
   "cell_type": "code",
   "execution_count": 30,
   "metadata": {},
   "outputs": [
    {
     "name": "stdout",
     "output_type": "stream",
     "text": [
      "{1, 2}\n",
      "{4, 5}\n",
      "{1, 2}\n"
     ]
    }
   ],
   "source": [
    "print(a.difference(b))\n",
    "print(b.difference(a))\n",
    "print(a-b) # - is difference"
   ]
  },
  {
   "cell_type": "code",
   "execution_count": 31,
   "metadata": {},
   "outputs": [
    {
     "name": "stdout",
     "output_type": "stream",
     "text": [
      "{1, 2, 4, 5}\n",
      "{1, 2, 4, 5}\n"
     ]
    }
   ],
   "source": [
    "print(a.symmetric_difference(b))\n",
    "print(a^b) # ^ is symmetric difference"
   ]
  },
  {
   "cell_type": "markdown",
   "metadata": {},
   "source": [
    "## Dictionary "
   ]
  },
  {
   "cell_type": "code",
   "execution_count": 32,
   "metadata": {},
   "outputs": [
    {
     "name": "stdout",
     "output_type": "stream",
     "text": [
      "{'name': 'Alex', 'isMarried': True, 'hasChildren': False, 'age': 29, 'city': 'New York', 'profession': 'Photographer'}\n",
      "{'food': 500, 'rent': 1700, 'insurance': 200}\n"
     ]
    }
   ],
   "source": [
    "# creation \n",
    "data = [\"alex\", True , False ,29,\"New York\", \"Photographer\"]\n",
    "datadict = {\n",
    "    'name': 'Alex',\n",
    "    'isMarried' : True,\n",
    "    'hasChildren': False,\n",
    "    'age' : 29,\n",
    "    'city' : 'New York',\n",
    "    'profession' : 'Photographer'\n",
    "}\n",
    "print(datadict)\n",
    "\n",
    "movies = {} # empty dictionary\n",
    "\n",
    "expenditure =dict(\n",
    "    food = 500,\n",
    "    rent = 1700,\n",
    "    insurance = 200,\n",
    ")\n",
    "\n",
    "print(expenditure)\n",
    "    \n",
    "\n"
   ]
  },
  {
   "cell_type": "markdown",
   "metadata": {},
   "source": [
    "- creatiing\n",
    "- accessing\n",
    "- add or update\n",
    "- remove\n",
    "- traversal"
   ]
  },
  {
   "cell_type": "code",
   "execution_count": 33,
   "metadata": {},
   "outputs": [
    {
     "name": "stdout",
     "output_type": "stream",
     "text": [
      "Alex\n",
      "True\n",
      "New York\n"
     ]
    }
   ],
   "source": [
    "print(datadict['name'])\n",
    "print(datadict['isMarried'])\n",
    "print(datadict['city'])\n",
    "# print(datadict['state']) # keyError"
   ]
  },
  {
   "cell_type": "code",
   "execution_count": 34,
   "metadata": {},
   "outputs": [
    {
     "name": "stdout",
     "output_type": "stream",
     "text": [
      "New York\n",
      "None\n",
      "29\n",
      "100\n"
     ]
    }
   ],
   "source": [
    "print(datadict.get('city'))\n",
    "print(datadict.get('City')) # City is not in the dictionary \n",
    "print(datadict.get('age',100)) \n",
    "print(datadict.get('AGE' ,100))# AGE is not in the dictionary\n",
    "\n",
    "\n",
    "\n"
   ]
  },
  {
   "cell_type": "code",
   "execution_count": 35,
   "metadata": {},
   "outputs": [
    {
     "name": "stdout",
     "output_type": "stream",
     "text": [
      "{'deadpool and Wolverine': 'Shawn Levy', 'BahuBali': 'SS Rajamouli', 'Inception': 'Christopher Nolan'}\n"
     ]
    }
   ],
   "source": [
    "movies ['deadpool and Wolverine'] = 'Shawn Levy'\n",
    "movies ['BahuBali'] = 'SS Rajamouli'\n",
    "movies ['Inception'] = 'Christopher Nolan'\n",
    "print(movies)\n"
   ]
  },
  {
   "cell_type": "code",
   "execution_count": 36,
   "metadata": {},
   "outputs": [
    {
     "name": "stdout",
     "output_type": "stream",
     "text": [
      "{'deadpool and Wolverine': 'Shawn Levy', 'BahuBali': 'SS Rajamouli', 'Inception': 'Christopher Nolan', 'The dark Knight': 'Christopher Nolan', 'The Prestige': 'Christopher Nolan', 'The Matrix': 'Wachowski Brothers'}\n"
     ]
    }
   ],
   "source": [
    "movies.update(\n",
    "    {\n",
    "        'The dark Knight' : 'Christopher Nolan',\n",
    "        'The Prestige' : 'Christopher Nolan',\n",
    "        'The Matrix' : 'Wachowski Brothers',\n",
    "    }\n",
    ")\n",
    "print(movies)"
   ]
  },
  {
   "cell_type": "code",
   "execution_count": 37,
   "metadata": {},
   "outputs": [
    {
     "name": "stdout",
     "output_type": "stream",
     "text": [
      "{'name': 'Alexander', 'isMarried': True, 'hasChildren': False, 'age': 29, 'city': 'New York', 'profession': 'Photographer'}\n"
     ]
    }
   ],
   "source": [
    "datadict['name'] = 'Alexander'\n",
    "print(datadict)"
   ]
  },
  {
   "cell_type": "code",
   "execution_count": 39,
   "metadata": {},
   "outputs": [
    {
     "data": {
      "text/plain": [
       "'SS Rajamouli'"
      ]
     },
     "execution_count": 39,
     "metadata": {},
     "output_type": "execute_result"
    }
   ],
   "source": [
    "# remove \n",
    "movies.pop(\"BahuBali\")"
   ]
  },
  {
   "cell_type": "code",
   "execution_count": 40,
   "metadata": {},
   "outputs": [
    {
     "data": {
      "text/plain": [
       "{'deadpool and Wolverine': 'Shawn Levy',\n",
       " 'Inception': 'Christopher Nolan',\n",
       " 'The dark Knight': 'Christopher Nolan',\n",
       " 'The Prestige': 'Christopher Nolan',\n",
       " 'The Matrix': 'Wachowski Brothers'}"
      ]
     },
     "execution_count": 40,
     "metadata": {},
     "output_type": "execute_result"
    }
   ],
   "source": [
    "movies"
   ]
  },
  {
   "cell_type": "markdown",
   "metadata": {},
   "source": [
    "for loop in dict will iterate over keys"
   ]
  },
  {
   "cell_type": "code",
   "execution_count": 41,
   "metadata": {},
   "outputs": [
    {
     "name": "stdout",
     "output_type": "stream",
     "text": [
      "name\n",
      "isMarried\n",
      "hasChildren\n",
      "age\n",
      "city\n",
      "profession\n"
     ]
    }
   ],
   "source": [
    "for item in datadict:\n",
    "    print(item)"
   ]
  },
  {
   "cell_type": "code",
   "execution_count": 42,
   "metadata": {},
   "outputs": [
    {
     "name": "stdout",
     "output_type": "stream",
     "text": [
      "Alexander\n",
      "True\n",
      "False\n",
      "29\n",
      "New York\n",
      "Photographer\n"
     ]
    }
   ],
   "source": [
    "for item in datadict:\n",
    "    print(datadict[item])"
   ]
  },
  {
   "cell_type": "code",
   "execution_count": 44,
   "metadata": {},
   "outputs": [
    {
     "name": "stdout",
     "output_type": "stream",
     "text": [
      "name Alexander\n",
      "isMarried True\n",
      "hasChildren False\n",
      "age 29\n",
      "city New York\n",
      "profession Photographer\n"
     ]
    }
   ],
   "source": [
    "for k,v in datadict.items():\n",
    "    print(k,v)"
   ]
  },
  {
   "cell_type": "code",
   "execution_count": 45,
   "metadata": {},
   "outputs": [
    {
     "data": {
      "text/plain": [
       "dict_keys(['deadpool and Wolverine', 'Inception', 'The dark Knight', 'The Prestige', 'The Matrix'])"
      ]
     },
     "execution_count": 45,
     "metadata": {},
     "output_type": "execute_result"
    }
   ],
   "source": [
    "movies.keys()"
   ]
  },
  {
   "cell_type": "code",
   "execution_count": 46,
   "metadata": {},
   "outputs": [
    {
     "data": {
      "text/plain": [
       "dict_values(['Shawn Levy', 'Christopher Nolan', 'Christopher Nolan', 'Christopher Nolan', 'Wachowski Brothers'])"
      ]
     },
     "execution_count": 46,
     "metadata": {},
     "output_type": "execute_result"
    }
   ],
   "source": [
    "movies.values()"
   ]
  },
  {
   "cell_type": "markdown",
   "metadata": {},
   "source": [
    "nested dictionary"
   ]
  },
  {
   "cell_type": "code",
   "execution_count": 48,
   "metadata": {},
   "outputs": [],
   "source": [
    "report = {\n",
    "    '01' : {\n",
    "        'name' :  \"Alex\",\n",
    "        'subjects' : {\n",
    "            'maths' : 89,\n",
    "            'science' : 85,\n",
    "            'english' : 95\n",
    "        }\n",
    "    },\n",
    "    '02' : {\n",
    "        'name' : \"John\",\n",
    "        'subjects' : {\n",
    "            'maths' : 80,\n",
    "            'science' : 75,\n",
    "            'english' : 85\n",
    "        }\n",
    "    },\n",
    "}"
   ]
  },
  {
   "cell_type": "code",
   "execution_count": 49,
   "metadata": {},
   "outputs": [
    {
     "data": {
      "text/plain": [
       "85"
      ]
     },
     "execution_count": 49,
     "metadata": {},
     "output_type": "execute_result"
    }
   ],
   "source": [
    "report['02']['subjects']['english']"
   ]
  },
  {
   "cell_type": "code",
   "execution_count": 50,
   "metadata": {},
   "outputs": [],
   "source": [
    "from pprint import pp"
   ]
  },
  {
   "cell_type": "code",
   "execution_count": 51,
   "metadata": {},
   "outputs": [
    {
     "name": "stdout",
     "output_type": "stream",
     "text": [
      "{'01': {'name': 'Alex',\n",
      "        'subjects': {'maths': 89, 'science': 75, 'english': 95}},\n",
      " '02': {'name': 'John',\n",
      "        'subjects': {'maths': 80, 'science': 75, 'english': 85}}}\n"
     ]
    }
   ],
   "source": [
    "pp(report)"
   ]
  },
  {
   "cell_type": "code",
   "execution_count": 52,
   "metadata": {},
   "outputs": [
    {
     "name": "stdout",
     "output_type": "stream",
     "text": [
      "{'year': [2019, 2020, 2021, 2022, 2023], 'rainfall': [100, 200, 150, 300, 250]}\n"
     ]
    }
   ],
   "source": [
    "rainfall_data = {\n",
    "    'year' : [2019, 2020, 2021, 2022, 2023],\n",
    "    'rainfall' : [100, 200, 150, 300, 250]\n",
    "\n",
    "}\n",
    "print(rainfall_data)"
   ]
  },
  {
   "cell_type": "code",
   "execution_count": null,
   "metadata": {},
   "outputs": [],
   "source": []
  }
 ],
 "metadata": {
  "kernelspec": {
   "display_name": "base",
   "language": "python",
   "name": "python3"
  },
  "language_info": {
   "codemirror_mode": {
    "name": "ipython",
    "version": 3
   },
   "file_extension": ".py",
   "mimetype": "text/x-python",
   "name": "python",
   "nbconvert_exporter": "python",
   "pygments_lexer": "ipython3",
   "version": "3.12.3"
  }
 },
 "nbformat": 4,
 "nbformat_minor": 2
}
